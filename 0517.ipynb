{
  "nbformat": 4,
  "nbformat_minor": 0,
  "metadata": {
    "colab": {
      "provenance": [],
      "authorship_tag": "ABX9TyMbGcuvFZCiCTtC5Sv0E3PP",
      "include_colab_link": true
    },
    "kernelspec": {
      "name": "python3",
      "display_name": "Python 3"
    },
    "language_info": {
      "name": "python"
    }
  },
  "cells": [
    {
      "cell_type": "markdown",
      "metadata": {
        "id": "view-in-github",
        "colab_type": "text"
      },
      "source": [
        "<a href=\"https://colab.research.google.com/github/shumei0410/Introduction-to-Computers/blob/main/0517.ipynb\" target=\"_parent\"><img src=\"https://colab.research.google.com/assets/colab-badge.svg\" alt=\"Open In Colab\"/></a>"
      ]
    },
    {
      "cell_type": "code",
      "execution_count": null,
      "metadata": {
        "colab": {
          "base_uri": "https://localhost:8080/"
        },
        "id": "EvY4P2TQ1VvM",
        "outputId": "60262079-5fe1-4477-b248-351783c3ce87"
      },
      "outputs": [
        {
          "output_type": "stream",
          "name": "stdout",
          "text": [
            "0517\n"
          ]
        }
      ],
      "source": [
        "print(\"0517\")"
      ]
    },
    {
      "cell_type": "code",
      "source": [
        "score = int(input(\"score: \")) \n",
        "if score >= 90: \n",
        "  print('Grade is: A') \n",
        "elif score >= 80: \n",
        "    print('Grade is: B') \n",
        "elif score >= 70: \n",
        "    print('Grade is: C') \n",
        "elif score >= 60: \n",
        "    print('Grade is: D') \n",
        "else: \n",
        "    print('Grade is: F')"
      ],
      "metadata": {
        "colab": {
          "base_uri": "https://localhost:8080/"
        },
        "id": "oQmXHfaa1gzH",
        "outputId": "fc3ba305-1184-43cd-8e9a-70e1c60f6b8b"
      },
      "execution_count": null,
      "outputs": [
        {
          "output_type": "stream",
          "name": "stdout",
          "text": [
            "score: 90\n",
            "Grade is: A\n"
          ]
        }
      ]
    },
    {
      "cell_type": "code",
      "source": [
        "體溫 = int(input(\"體溫: \")) \n",
        "if 體溫 >= 37.5: \n",
        "  print('體溫過高!') \n",
        "elif 體溫 >= 37 and 體溫 <= 37.4: \n",
        "    print('體溫略高!') \n",
        "elif 體溫 >= 34 and 體溫 <= 36.9:\n",
        "    print('體溫異常!') \n",
        "elif 體溫 < 34:\n",
        "    print('體溫異常,請重新量測!') \n",
        "else:\n",
        "    print('體溫異常,請重新量測!')"
      ],
      "metadata": {
        "colab": {
          "base_uri": "https://localhost:8080/"
        },
        "id": "y__MoY9J2Kt3",
        "outputId": "4bf26773-4a0f-4598-aafa-347421a67fe3"
      },
      "execution_count": null,
      "outputs": [
        {
          "output_type": "stream",
          "name": "stdout",
          "text": [
            "體溫: 36\n",
            "體溫異常!\n"
          ]
        }
      ]
    },
    {
      "cell_type": "code",
      "source": [
        "month=int(input(\"請輸入月份: \"))\n",
        "if month in (3,4,5):\n",
        "  print(\"是春天\")\n",
        "elif  month in (6,7,8):\n",
        "  print(\"是夏季\")\n",
        "elif  month in (9,10,11):\n",
        "  print(\"是秋季\")\n",
        "elif  month in (11,12,1):\n",
        "  print(\"是冬季\")\n",
        "else:  \n",
        "  print(\"月份不在範圍內!\")"
      ],
      "metadata": {
        "colab": {
          "base_uri": "https://localhost:8080/"
        },
        "id": "N-CUFDr647A7",
        "outputId": "b93e07ca-eeb1-4014-d17a-689a62069f35"
      },
      "execution_count": null,
      "outputs": [
        {
          "output_type": "stream",
          "name": "stdout",
          "text": [
            "請輸入月份: 13\n",
            "月份不在範圍內!\n"
          ]
        }
      ]
    },
    {
      "cell_type": "code",
      "source": [
        "tax=int(input(\"請輸入今年收入淨額: \"))\n",
        "if   tax >= 2000000:\n",
        "  print(\"賦稅金額:600000.0元\")\n",
        "elif  tax >= 1000000:\n",
        "  print(\"賦稅金額:210000.0元\")\n",
        "elif  tax >= 600000:\n",
        "  print(\"賦稅金額:78000.0元\")\n",
        "elif  tax >= 300000:\n",
        "  print(\"賦稅金額:18000.0元\")\n",
        "else:  \n",
        "  print(\"賦稅金額:0元\")"
      ],
      "metadata": {
        "colab": {
          "base_uri": "https://localhost:8080/"
        },
        "id": "_KT_jZDA7Dh1",
        "outputId": "949bc1a3-068a-40b4-aaa5-21b297f5e16a"
      },
      "execution_count": null,
      "outputs": [
        {
          "output_type": "stream",
          "name": "stdout",
          "text": [
            "請輸入今年收入淨額: 300000\n",
            "賦稅金額:18000.0元\n"
          ]
        }
      ]
    },
    {
      "cell_type": "code",
      "source": [
        "score = int(input(\"請輸入成績: \")) \n",
        "if score >= 90: \n",
        "  print('A') \n",
        "elif score >= 80: \n",
        "    print('B') \n",
        "elif score >= 70: \n",
        "    print('C') \n",
        "elif score >= 60: \n",
        "    print('D') \n",
        "else: \n",
        "    print('E')"
      ],
      "metadata": {
        "id": "glsJAcuDC-ZV",
        "colab": {
          "base_uri": "https://localhost:8080/"
        },
        "outputId": "b99613fe-5483-43d0-e405-ea1f4de0fc6b"
      },
      "execution_count": 26,
      "outputs": [
        {
          "output_type": "stream",
          "name": "stdout",
          "text": [
            "請輸入成績: 70\n",
            "C\n"
          ]
        }
      ]
    }
  ]
}