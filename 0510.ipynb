{
  "nbformat": 4,
  "nbformat_minor": 0,
  "metadata": {
    "colab": {
      "provenance": [],
      "authorship_tag": "ABX9TyPPqchrCqrInq+kJWHsqyKu",
      "include_colab_link": true
    },
    "kernelspec": {
      "name": "python3",
      "display_name": "Python 3"
    },
    "language_info": {
      "name": "python"
    }
  },
  "cells": [
    {
      "cell_type": "markdown",
      "metadata": {
        "id": "view-in-github",
        "colab_type": "text"
      },
      "source": [
        "<a href=\"https://colab.research.google.com/github/shumei0410/Introduction-to-Computers/blob/main/0510.ipynb\" target=\"_parent\"><img src=\"https://colab.research.google.com/assets/colab-badge.svg\" alt=\"Open In Colab\"/></a>"
      ]
    },
    {
      "cell_type": "code",
      "execution_count": null,
      "metadata": {
        "colab": {
          "base_uri": "https://localhost:8080/"
        },
        "id": "877RqyRVuSzf",
        "outputId": "d50d5b44-1077-4351-e67e-ae4dcc9b10e0"
      },
      "outputs": [
        {
          "output_type": "stream",
          "name": "stdout",
          "text": [
            "0510\n"
          ]
        }
      ],
      "source": [
        "print ('0510')"
      ]
    },
    {
      "cell_type": "code",
      "source": [
        "score=int(input(\"請輸入分數: \"))\n",
        "if score>=60:\n",
        "  print(\"及格\")\n",
        "else:\n",
        "  print(\"不及格\")"
      ],
      "metadata": {
        "colab": {
          "base_uri": "https://localhost:8080/"
        },
        "id": "FW1vhuPPvevJ",
        "outputId": "c2bc6535-d2fe-4b8f-d23d-e819d1b86151"
      },
      "execution_count": null,
      "outputs": [
        {
          "output_type": "stream",
          "name": "stdout",
          "text": [
            "請輸入分數: 40\n",
            "不及格\n"
          ]
        }
      ]
    },
    {
      "cell_type": "code",
      "source": [
        "password=int(input(\"請輸入密碼: \"))\n",
        "if password==1234:\n",
        "  print(\"歡迎光臨\")\n",
        "else:\n",
        "  print(\"\")"
      ],
      "metadata": {
        "colab": {
          "base_uri": "https://localhost:8080/"
        },
        "id": "5O_7VVK9xodM",
        "outputId": "dd0f7fd8-8b46-4f79-8577-7fcd5e456bec"
      },
      "execution_count": null,
      "outputs": [
        {
          "output_type": "stream",
          "name": "stdout",
          "text": [
            "請輸入密碼: 1111\n",
            "\n"
          ]
        }
      ]
    },
    {
      "cell_type": "code",
      "source": [
        "password=int(input(\"請輸入密碼: \"))\n",
        "if password==1234:\n",
        "  print(\"歡迎光臨\")\n",
        "else:\n",
        "  print(\"\")"
      ],
      "metadata": {
        "colab": {
          "base_uri": "https://localhost:8080/"
        },
        "id": "Y3YgUG2q0w80",
        "outputId": "e64c4b38-e2a4-4ae8-a53f-f9203929a468"
      },
      "execution_count": null,
      "outputs": [
        {
          "output_type": "stream",
          "name": "stdout",
          "text": [
            "請輸入密碼: 1234\n",
            "歡迎光臨\n"
          ]
        }
      ]
    },
    {
      "cell_type": "code",
      "source": [
        "m=int(input(\"請輸入正整數: \"))\n",
        "if (m%2==0):\n",
        "  print(\"m為偶數\")\n",
        "else:\n",
        "  print(\"m為奇數\")"
      ],
      "metadata": {
        "colab": {
          "base_uri": "https://localhost:8080/"
        },
        "id": "k-fYNCJo8GCE",
        "outputId": "7ff601cf-c444-4a2e-894a-ec69c63a197a"
      },
      "execution_count": 26,
      "outputs": [
        {
          "output_type": "stream",
          "name": "stdout",
          "text": [
            "請輸入正整數: 50\n",
            "m為偶數\n"
          ]
        }
      ]
    },
    {
      "cell_type": "code",
      "source": [
        "m=int(input(\"請輸入正整數: \"))\n",
        "if (m%2==0):\n",
        "  print(\"m為偶數\")\n",
        "else:\n",
        "  print(\"m為奇數\")"
      ],
      "metadata": {
        "colab": {
          "base_uri": "https://localhost:8080/"
        },
        "id": "ioXeWLYr8nto",
        "outputId": "14febb41-d288-48be-87ff-8ed8cbaf52ef"
      },
      "execution_count": 29,
      "outputs": [
        {
          "output_type": "stream",
          "name": "stdout",
          "text": [
            "請輸入正整數: 51\n",
            "m為奇數\n"
          ]
        }
      ]
    }
  ]
}